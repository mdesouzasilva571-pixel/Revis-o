{
  "cells": [
    {
      "cell_type": "markdown",
      "metadata": {
        "id": "view-in-github",
        "colab_type": "text"
      },
      "source": [
        "<a href=\"https://colab.research.google.com/github/mdesouzasilva571-pixel/Revis-o/blob/main/Quest%C3%B5es%2016%20a%2030.ipynb\" target=\"_parent\"><img src=\"https://colab.research.google.com/assets/colab-badge.svg\" alt=\"Open In Colab\"/></a>"
      ]
    },
    {
      "cell_type": "code",
      "source": [
        "def contar_frequencia(palavra):\n",
        "    frequencia = {}\n",
        "    for letra in palavra:\n",
        "        if letra in frequencia:\n",
        "            frequencia[letra] += 1\n",
        "        else:\n",
        "            frequencia[letra] = 1\n",
        "    return frequencia\n",
        "\n",
        "# Exemplo de uso\n",
        "print(contar_frequencia(\"python\"))\n"
      ],
      "metadata": {
        "colab": {
          "base_uri": "https://localhost:8080/"
        },
        "id": "vFmpDliiStIs",
        "outputId": "086e291a-be66-405d-e041-ef605c2f73b7"
      },
      "execution_count": 75,
      "outputs": [
        {
          "output_type": "stream",
          "name": "stdout",
          "text": [
            "{'p': 1, 'y': 1, 't': 1, 'h': 1, 'o': 1, 'n': 1}\n"
          ]
        }
      ]
    },
    {
      "cell_type": "code",
      "source": [
        "# Lista de dicionários representando livros\n",
        "livros = [\n",
        "    {\"titulo\": \"Menino do pijama listrado\", \"autor\": \"John Boyne\", \"ano\": 2006},\n",
        "    {\"titulo\": \"O Pequeno Príncipe\", \"autor\": \"Antoine de Saint-Exupéry\", \"ano\": 1943},\n",
        "    {\"titulo\": \"A menina que roubava livros\", \"autor\": \"Markus Zukak\", \"ano\": 2005},\n",
        "]\n",
        "\n",
        "# Imprimindo os livros\n",
        "for livro in livros:\n",
        "    print(f\"Título: {livro['titulo']}, Autor: {livro['autor']}, Ano: {livro['ano']}\")\n"
      ],
      "metadata": {
        "colab": {
          "base_uri": "https://localhost:8080/"
        },
        "id": "J-eXbG0BS1-0",
        "outputId": "936ace9a-347c-4314-9fa6-278998399912"
      },
      "execution_count": 76,
      "outputs": [
        {
          "output_type": "stream",
          "name": "stdout",
          "text": [
            "Título: Menino do pijama listrado, Autor: John Boyne, Ano: 2006\n",
            "Título: O Pequeno Príncipe, Autor: Antoine de Saint-Exupéry, Ano: 1943\n",
            "Título: A menina que roubava livros, Autor: Markus Zukak, Ano: 2005\n"
          ]
        }
      ]
    },
    {
      "cell_type": "code",
      "source": [
        "def verificar_palidromo(palavra):\n",
        "  #1.Remover espaços e converter para minusculas\n",
        "  # Usa join para juntar os caracteres e remove tudo que não for alfanumérico,\n",
        "    # e então converte para minúsculas\n",
        "    palavra = ''.join(filter(str.isalnum, palavra)).lower()\n",
        "  # Verificar se a palavra é um palíndromo\n",
        "\n",
        "  # 2. Comparar a string processada com a sua versão invertida\n",
        "    # O fatiamento [::-1] inverte a string\n",
        "    print(input(\"digite uma palavra\"))\n",
        "    if palavra == palavra[::-1]:\n",
        "        return \"É um palíndromo!\"\n",
        "    else:\n",
        "        return \"Não é um palíndromo.\"\n",
        "# Teste com diferentes entradas\n",
        "print(verificar_palidromo(\"arara\"))\n",
        "print(verificar_palidromo(\"palavra\"))\n",
        "\n"
      ],
      "metadata": {
        "colab": {
          "base_uri": "https://localhost:8080/"
        },
        "id": "HB5yC9M4S50q",
        "outputId": "ee9e17ba-045c-4115-e611-c9fb518ada03"
      },
      "execution_count": 77,
      "outputs": [
        {
          "output_type": "stream",
          "name": "stdout",
          "text": [
            "digite uma palavraarara\n",
            "arara\n",
            "É um palíndromo!\n",
            "digite uma palavracasas\n",
            "casas\n",
            "Não é um palíndromo.\n"
          ]
        }
      ]
    },
    {
      "cell_type": "code",
      "source": [
        "for i in range(1, 21):\n",
        "    if i % 2 == 0:\n",
        "        print(i)\n"
      ],
      "metadata": {
        "colab": {
          "base_uri": "https://localhost:8080/"
        },
        "id": "dpCliXW-TEoX",
        "outputId": "fc001dac-aec5-46d6-ee0f-96b751284c1d"
      },
      "execution_count": 78,
      "outputs": [
        {
          "output_type": "stream",
          "name": "stdout",
          "text": [
            "2\n",
            "4\n",
            "6\n",
            "8\n",
            "10\n",
            "12\n",
            "14\n",
            "16\n",
            "18\n",
            "20\n"
          ]
        }
      ]
    },
    {
      "cell_type": "code",
      "source": [
        "def fatorial(n):\n",
        "    if n < 0:\n",
        "        return \"Fatorial não definido para números negativos\"\n",
        "    elif n == 0 or n == 1:\n",
        "        return 1\n",
        "    else:\n",
        "        return n * fatorial(n - 1)\n",
        "\n",
        "# Exemplos de uso\n",
        "print(fatorial(5))  # 120\n",
        "print(fatorial(-5))\n",
        "print(fatorial(1))  # 1\n",
        "print(fatorial(-8))\n"
      ],
      "metadata": {
        "colab": {
          "base_uri": "https://localhost:8080/"
        },
        "id": "Qn4nGCBVTJFS",
        "outputId": "ae6472ae-1195-43df-aa9d-6e6289351c47"
      },
      "execution_count": 79,
      "outputs": [
        {
          "output_type": "stream",
          "name": "stdout",
          "text": [
            "120\n",
            "Fatorial não definido para números negativos\n",
            "1\n",
            "Fatorial não definido para números negativos\n"
          ]
        }
      ]
    },
    {
      "cell_type": "code",
      "source": [
        "chaves = [\"nome\", \"idade\", \"cidade\"]\n",
        "valores = [\"Maria\", 25, \"São Paulo\"]\n",
        "\n",
        "# Transformar em dicionário\n",
        "dicionario = dict(zip(chaves, valores))\n",
        "\n",
        "print(dicionario)"
      ],
      "metadata": {
        "colab": {
          "base_uri": "https://localhost:8080/"
        },
        "id": "UGU6I42YTPEO",
        "outputId": "6a563f3a-32fd-4de8-f3b1-e147eb1f0777"
      },
      "execution_count": 80,
      "outputs": [
        {
          "output_type": "stream",
          "name": "stdout",
          "text": [
            "{'nome': 'Maria', 'idade': 25, 'cidade': 'São Paulo'}\n"
          ]
        }
      ]
    },
    {
      "cell_type": "code",
      "source": [
        "import math\n",
        "\n",
        "# Tupla com coordenadas\n",
        "coordenadas = (3, 4)  # exemplo: x=3, y=4\n",
        "\n",
        "# Calcular distância até a origem\n",
        "x, y = coordenadas\n",
        "distancia = math.sqrt(x**2 + y**2)\n",
        "\n",
        "print(f\"A distância até a origem é: {distancia}\")"
      ],
      "metadata": {
        "colab": {
          "base_uri": "https://localhost:8080/"
        },
        "id": "iQtYIXTRTe92",
        "outputId": "d82b13f0-7017-4b82-9a60-31f2bfab492d"
      },
      "execution_count": 81,
      "outputs": [
        {
          "output_type": "stream",
          "name": "stdout",
          "text": [
            "A distância até a origem é: 5.0\n"
          ]
        }
      ]
    },
    {
      "cell_type": "code",
      "source": [
        "estoque = []  # lista para armazenar itens\n",
        "\n",
        "while True:\n",
        "    print(\"\\nMenu:\")\n",
        "    print(\"1 - Ver estoque\")\n",
        "    print(\"2 - Adicionar item\")\n",
        "    print(\"3 - Sair\")\n",
        "\n",
        "    opcao = input(\"Escolha uma opção: \")\n",
        "\n",
        "    if opcao == \"1\":\n",
        "        if estoque:\n",
        "            print(\"Estoque:\", estoque)\n",
        "        else:\n",
        "            print(\"O estoque está vazio.\")\n",
        "    elif opcao == \"2\":\n",
        "        item = input(\"Digite o nome do item para adicionar: \")\n",
        "        estoque.append(item)\n",
        "        print(f\"{item} adicionado ao estoque.\")\n",
        "    elif opcao == \"3\":\n",
        "        print(\"Saindo do programa...\")\n",
        "        break\n",
        "    else:\n",
        "        print(\"Opção inválida. Tente novamente.\")\n"
      ],
      "metadata": {
        "colab": {
          "base_uri": "https://localhost:8080/"
        },
        "id": "FJQipB7FTpZh",
        "outputId": "1e86e56b-a05d-42e0-a4ae-c7e40c7f6fe2"
      },
      "execution_count": 82,
      "outputs": [
        {
          "output_type": "stream",
          "name": "stdout",
          "text": [
            "\n",
            "Menu:\n",
            "1 - Ver estoque\n",
            "2 - Adicionar item\n",
            "3 - Sair\n",
            "Escolha uma opção: 2\n",
            "Digite o nome do item para adicionar: cama\n",
            "cama adicionado ao estoque.\n",
            "\n",
            "Menu:\n",
            "1 - Ver estoque\n",
            "2 - Adicionar item\n",
            "3 - Sair\n",
            "Escolha uma opção: 1\n",
            "Estoque: ['cama']\n",
            "\n",
            "Menu:\n",
            "1 - Ver estoque\n",
            "2 - Adicionar item\n",
            "3 - Sair\n",
            "Escolha uma opção: 3\n",
            "Saindo do programa...\n"
          ]
        }
      ]
    },
    {
      "cell_type": "code",
      "source": [
        "# Pedir uma string ao usuário\n",
        "texto = input(\"Digite uma frase: \")\n",
        "\n",
        "# Definir vogais\n",
        "vogais = \"aeiouAEIOU\"\n",
        "\n",
        "# Contar vogais\n",
        "contador = 0\n",
        "for letra in texto:\n",
        "    if letra in vogais:\n",
        "        contador += 1\n",
        "\n",
        "print(f\"Número de vogais: {contador}\")\n"
      ],
      "metadata": {
        "colab": {
          "base_uri": "https://localhost:8080/"
        },
        "id": "X_ebYl50T-Xi",
        "outputId": "f064df30-770e-4997-cfc9-706a7812f244"
      },
      "execution_count": 83,
      "outputs": [
        {
          "output_type": "stream",
          "name": "stdout",
          "text": [
            "Digite uma frase: mar\n",
            "Número de vogais: 1\n"
          ]
        }
      ]
    },
    {
      "cell_type": "code",
      "source": [
        "def atualizar_idade(pessoa, nova_idade):\n",
        "    \"\"\"\n",
        "    Atualiza a idade de uma pessoa no dicionário.\n",
        "\n",
        "    Args:\n",
        "    pessoa (dict): dicionário com informações da pessoa, deve ter a chave 'idade'.\n",
        "    nova_idade (int): nova idade a ser atribuída.\n",
        "    \"\"\"\n",
        "    if 'idade' in pessoa:\n",
        "        pessoa['idade'] = nova_idade\n",
        "        print(f\"Idade atualizada para {nova_idade}.\")\n",
        "    else:\n",
        "        print(\"Chave 'idade' não encontrada no dicionário.\")\n",
        "\n",
        "# Exemplo de uso\n",
        "pessoa = {\"nome\": \"Maria\", \"idade\": 25}\n",
        "atualizar_idade(pessoa, 30)\n",
        "print(pessoa)\n",
        "\n"
      ],
      "metadata": {
        "colab": {
          "base_uri": "https://localhost:8080/"
        },
        "id": "YtJ4eIc3UPXO",
        "outputId": "c121b2f1-9a01-4cac-d396-12706ae702e5"
      },
      "execution_count": 84,
      "outputs": [
        {
          "output_type": "stream",
          "name": "stdout",
          "text": [
            "Idade atualizada para 30.\n",
            "{'nome': 'Maria', 'idade': 30}\n"
          ]
        }
      ]
    },
    {
      "cell_type": "code",
      "source": [
        "def filtrar_pares(lista):\n",
        "    \"\"\"\n",
        "    Retorna uma lista contendo apenas os números pares da lista fornecida.\n",
        "    \"\"\"\n",
        "    return [num for num in lista if num % 2 == 0]\n",
        "\n",
        "# Exemplo de uso\n",
        "numeros = [1, 2, 3, 4, 5, 6]\n",
        "pares = filtrar_pares(numeros)\n",
        "print(\"Números pares:\", pares)\n"
      ],
      "metadata": {
        "colab": {
          "base_uri": "https://localhost:8080/"
        },
        "id": "KzapRu33UZ_e",
        "outputId": "88e09e09-36ef-48ff-ea2f-7124b635ea3a"
      },
      "execution_count": 85,
      "outputs": [
        {
          "output_type": "stream",
          "name": "stdout",
          "text": [
            "Números pares: [2, 4, 6]\n"
          ]
        }
      ]
    },
    {
      "cell_type": "code",
      "source": [
        "# Dicionário com alunos e suas notas\n",
        "alunos = {\n",
        "    \"Maria\": [8.5, 7.0, 9.0],\n",
        "    \"João\": [6.0, 7.5, 8.0],\n",
        "    \"Ana\": [9.0, 9.5, 10.0]\n",
        "}\n",
        "\n",
        "# Imprimir cada aluno e suas notas\n",
        "for aluno, notas in alunos.items():\n",
        "    print(f\"{aluno}: {notas}\")\n"
      ],
      "metadata": {
        "colab": {
          "base_uri": "https://localhost:8080/"
        },
        "id": "p8pYN4L0Ue7y",
        "outputId": "5173379a-3345-4f9c-9325-5f50337eaf72"
      },
      "execution_count": 86,
      "outputs": [
        {
          "output_type": "stream",
          "name": "stdout",
          "text": [
            "Maria: [8.5, 7.0, 9.0]\n",
            "João: [6.0, 7.5, 8.0]\n",
            "Ana: [9.0, 9.5, 10.0]\n"
          ]
        }
      ]
    },
    {
      "cell_type": "code",
      "source": [
        "numeros = [2, 5, 7, 10]\n",
        "\n",
        "# Verificar se todos são positivos\n",
        "todos_positivos = all(num > 0 for num in numeros)\n",
        "\n",
        "if todos_positivos:\n",
        "    print(\"Todos os números são positivos.\")\n",
        "else:\n",
        "  print(\"Nem todos os números são positivos\")"
      ],
      "metadata": {
        "colab": {
          "base_uri": "https://localhost:8080/"
        },
        "id": "0sIP7fbLUnHd",
        "outputId": "ee3b540c-29e4-4870-fdaa-41a515a93464"
      },
      "execution_count": 88,
      "outputs": [
        {
          "output_type": "stream",
          "name": "stdout",
          "text": [
            "Todos os números são positivos.\n"
          ]
        }
      ]
    },
    {
      "cell_type": "code",
      "source": [
        "\n",
        "frase = input(\"Digite uma frase: \")\n",
        "\n",
        "# Converter para minúsculas e separar em palavras\n",
        "palavras = frase.lower().split()\n",
        "\n",
        "# Contar ocorrência de cada palavra\n",
        "contagem = {}\n",
        "for palavra in palavras:\n",
        "    if palavra in contagem:\n",
        "        contagem[palavra] += 1\n",
        "    else:\n",
        "        contagem[palavra] = 1\n",
        "\n",
        "# Mostrar resultado\n",
        "print(\"Ocorrência de palavras:\", contagem)\n"
      ],
      "metadata": {
        "id": "G4vzKBF1U-e-",
        "outputId": "de0add90-de9c-43f6-a106-bce7bd73b5f1",
        "colab": {
          "base_uri": "https://localhost:8080/"
        }
      },
      "execution_count": 89,
      "outputs": [
        {
          "output_type": "stream",
          "name": "stdout",
          "text": [
            "Digite uma frase: Amo Python\n",
            "Ocorrência de palavras: {'amo': 1, 'python': 1}\n"
          ]
        }
      ]
    },
    {
      "cell_type": "code",
      "source": [
        "# Duas datas como tuplas (ano, mês, dia)\n",
        "data1 = (2023, 5, 20)\n",
        "data2 = (2024, 3, 15)\n",
        "\n",
        "# Comparar as datas\n",
        "if data1 > data2:\n",
        "    print(f\"{data1} é mais recente que {data2}\")\n",
        "elif data1 < data2:\n",
        "    print(f\"{data2} é mais recente que {data1}\")\n",
        "else:\n",
        "    print(\"As datas são iguais\")\n"
      ],
      "metadata": {
        "id": "_DKlQk0lVSyX",
        "outputId": "a68fe044-62ad-4c40-bd4e-a5039a06f46b",
        "colab": {
          "base_uri": "https://localhost:8080/"
        }
      },
      "execution_count": 90,
      "outputs": [
        {
          "output_type": "stream",
          "name": "stdout",
          "text": [
            "(2024, 3, 15) é mais recente que (2023, 5, 20)\n"
          ]
        }
      ]
    }
  ],
  "metadata": {
    "colab": {
      "name": "Damos-lhe as boas-vindas ao Colab",
      "toc_visible": true,
      "provenance": [],
      "include_colab_link": true
    },
    "kernelspec": {
      "display_name": "Python 3",
      "name": "python3"
    }
  },
  "nbformat": 4,
  "nbformat_minor": 0
}