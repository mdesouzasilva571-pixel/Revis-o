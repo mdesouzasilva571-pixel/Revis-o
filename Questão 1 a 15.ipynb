{
  "cells": [
    {
      "cell_type": "markdown",
      "metadata": {
        "id": "view-in-github",
        "colab_type": "text"
      },
      "source": [
        "<a href=\"https://colab.research.google.com/github/mdesouzasilva571-pixel/Revis-o/blob/main/Quest%C3%A3o%201%20a%2015.ipynb\" target=\"_parent\"><img src=\"https://colab.research.google.com/assets/colab-badge.svg\" alt=\"Open In Colab\"/></a>"
      ]
    },
    {
      "cell_type": "code",
      "source": [
        "# Criar lista de 1 a 5\n",
        "numeros = [1, 2, 3, 4, 5]\n",
        "\n",
        "# Imprimir cada elemento\n",
        "for n in numeros:\n",
        "    print(n)"
      ],
      "metadata": {
        "id": "PD_fw5pUQi1v",
        "outputId": "ce3a7d7b-e602-467b-ab22-28d9af049127",
        "colab": {
          "base_uri": "https://localhost:8080/"
        }
      },
      "execution_count": 55,
      "outputs": [
        {
          "output_type": "stream",
          "name": "stdout",
          "text": [
            "1\n",
            "2\n",
            "3\n",
            "4\n",
            "5\n"
          ]
        }
      ]
    },
    {
      "cell_type": "code",
      "source": [
        "numero = float(input(\"Digite um número: \"))\n",
        "\n",
        "# Verificar se é positivo, negativo ou zero\n",
        "if numero > 0:\n",
        "    print(\"O número é positivo.\")\n",
        "elif numero < 0:\n",
        "    print(\"O número é negativo.\")\n",
        "else:\n",
        "    print(\"O número é zero.\")\n",
        ""
      ],
      "metadata": {
        "id": "QS0Wx_-yQkUY",
        "outputId": "8cf4c6e6-cbb3-4b9b-bab4-bff2c0b83a46",
        "colab": {
          "base_uri": "https://localhost:8080/"
        }
      },
      "execution_count": 58,
      "outputs": [
        {
          "output_type": "stream",
          "name": "stdout",
          "text": [
            "Digite um número: -5\n",
            "O número é negativo.\n"
          ]
        }
      ]
    },
    {
      "cell_type": "code",
      "source": [
        "for numero in range(1,11):\n",
        "  print(numero)\n",
        "\n",
        "\n"
      ],
      "metadata": {
        "id": "2QEP1ir8Q9vA",
        "outputId": "20d177d7-70f1-4cb9-e62c-3c5876732475",
        "colab": {
          "base_uri": "https://localhost:8080/"
        }
      },
      "execution_count": 59,
      "outputs": [
        {
          "output_type": "stream",
          "name": "stdout",
          "text": [
            "1\n",
            "2\n",
            "3\n",
            "4\n",
            "5\n",
            "6\n",
            "7\n",
            "8\n",
            "9\n",
            "10\n"
          ]
        }
      ]
    },
    {
      "cell_type": "code",
      "source": [
        " # Criação do dicionário\n",
        "pessoas = {\n",
        "    \"Alice\": 30,\n",
        "    \"Bruno\": 25,\n",
        "    \"Carlos\": 35\n",
        "}\n",
        "# Impressão de cada par (nome e idade)\n",
        "print(\"Informações das pessoas:\")\n",
        "for nome, idade in pessoas.items():\n",
        "    print(f\"Nome: {nome}, Idade: {idade}\")\n"
      ],
      "metadata": {
        "id": "oNtgjm_-RElL",
        "outputId": "1849e611-2248-443e-f417-c3e5d85e74fc",
        "colab": {
          "base_uri": "https://localhost:8080/"
        }
      },
      "execution_count": 61,
      "outputs": [
        {
          "output_type": "stream",
          "name": "stdout",
          "text": [
            "Informações das pessoas:\n",
            "Nome: Alice, Idade: 30\n",
            "Nome: Bruno, Idade: 25\n",
            "Nome: Carlos, Idade: 35\n"
          ]
        }
      ]
    },
    {
      "cell_type": "code",
      "source": [
        "def soma(num1, num2):\n",
        "  \"\"\"Esta função recebe dois números e retorna a sua soma.\"\"\"\n",
        "  resultado = num1 + num2\n",
        "  return resultado\n",
        "\n",
        "# Exemplo de uso\n",
        "numero_a = 7\n",
        "numero_b = 20\n",
        "soma_total = soma(numero_a, numero_b)\n",
        "print(f\"A soma de {numero_a} e {numero_b} é: {soma_total}\") # Saída: A soma de 7 e 20 é: 27\n"
      ],
      "metadata": {
        "id": "Xb8NBX5jRMhp",
        "outputId": "6b9972d3-a263-4acc-ff1a-1729da17bbbc",
        "colab": {
          "base_uri": "https://localhost:8080/"
        }
      },
      "execution_count": 62,
      "outputs": [
        {
          "output_type": "stream",
          "name": "stdout",
          "text": [
            "A soma de 7 e 20 é: 27\n"
          ]
        }
      ]
    },
    {
      "cell_type": "code",
      "source": [
        "# Pede ao usuário para digitar uma palavra\n",
        "palavra = input(\"Por favor, digite uma palavra: \")\n",
        "\n",
        "# Conta o número de caracteres da palavra\n",
        "numero_de_caracteres = len(palavra)\n",
        "\n",
        "# Imprime o resultado\n",
        "print(f\"A sua entrada tem {numero_de_caracteres} caracteres.\")\n",
        "\n"
      ],
      "metadata": {
        "id": "XH24JcbdRSzf",
        "outputId": "74d0015e-2a94-408c-ba2f-99482eca2871",
        "colab": {
          "base_uri": "https://localhost:8080/"
        }
      },
      "execution_count": 64,
      "outputs": [
        {
          "output_type": "stream",
          "name": "stdout",
          "text": [
            "Por favor, digite uma palavra: python\n",
            "A sua entrada tem 6 caracteres.\n"
          ]
        }
      ]
    },
    {
      "cell_type": "code",
      "source": [
        "frutas= [\"maça\",\"jabuticaba\",\"banana\",\"laranja\"]\n",
        "frutas.append(\"carambola\")\n",
        "for frutas in frutas:\n",
        "  print(frutas)"
      ],
      "metadata": {
        "id": "DTlGK4ViRbv5",
        "outputId": "62af355e-3bda-4ba1-fd1f-517e84327433",
        "colab": {
          "base_uri": "https://localhost:8080/"
        }
      },
      "execution_count": 65,
      "outputs": [
        {
          "output_type": "stream",
          "name": "stdout",
          "text": [
            "maça\n",
            "jabuticaba\n",
            "banana\n",
            "laranja\n",
            "carambola\n"
          ]
        }
      ]
    },
    {
      "cell_type": "code",
      "source": [
        " numero=1\n",
        "while numero <= 5:\n",
        "    print(numero)\n",
        "    numero += 1\n"
      ],
      "metadata": {
        "id": "RA72K1M7RhOW",
        "outputId": "59b5ca7c-e57c-4b1d-8cae-c6968feb60dc",
        "colab": {
          "base_uri": "https://localhost:8080/"
        }
      },
      "execution_count": 66,
      "outputs": [
        {
          "output_type": "stream",
          "name": "stdout",
          "text": [
            "1\n",
            "2\n",
            "3\n",
            "4\n",
            "5\n"
          ]
        }
      ]
    },
    {
      "cell_type": "code",
      "source": [
        "#dicionario de produtos\n",
        "produtos={\n",
        "    \"Notebook\": 2000,\n",
        "    \"Celular\":1300,\n",
        "    \"Caixinha de som\": 250\n",
        "}\n",
        "#imprimir apenas nomes dos produtos\n",
        "for produto in produtos:\n",
        "    print(produto)\n"
      ],
      "metadata": {
        "id": "A7A83SDkRnAu",
        "outputId": "aec1115e-7d47-4273-af84-26431f948be4",
        "colab": {
          "base_uri": "https://localhost:8080/"
        }
      },
      "execution_count": 67,
      "outputs": [
        {
          "output_type": "stream",
          "name": "stdout",
          "text": [
            "Notebook\n",
            "Celular\n",
            "Caixinha de som\n"
          ]
        }
      ]
    },
    {
      "cell_type": "code",
      "source": [
        " # Lista de números\n",
        "numeros = [15, 30, 45, 60, 75]\n",
        "\n",
        "# Calcular a soma de todos os elementos\n",
        "soma = sum(numeros)\n",
        "\n",
        "# Imprimir a soma\n",
        "print(f'A soma de todos os elementos é: {soma}')\n"
      ],
      "metadata": {
        "id": "lJKeZ6S3RtIT",
        "outputId": "68409500-d79f-4c54-bb61-6e8b637ea281",
        "colab": {
          "base_uri": "https://localhost:8080/"
        }
      },
      "execution_count": 68,
      "outputs": [
        {
          "output_type": "stream",
          "name": "stdout",
          "text": [
            "A soma de todos os elementos é: 225\n"
          ]
        }
      ]
    },
    {
      "cell_type": "code",
      "source": [
        "# Dicionário com nomes como chave e tuplas (idade, cidade) como valor\n",
        "pessoas = {\n",
        "    \"Ana\": (43, \"Bonito de Santa Fé\"),\n",
        "    \"Carlos\": (39, \"Soledade\"),\n",
        "    \"Maria Eduarda\": (17, \"Soledade\"),\n",
        "    \"João\": (35, \"Porto Alegre\"),\n",
        "    \"Luana\": (22, \"Curitiba\")\n",
        "}\n",
        "\n",
        "# Imprimir o dicionário\n",
        "print(pessoas)\n"
      ],
      "metadata": {
        "id": "yYvTKOzVRyQK",
        "outputId": "18f2fee3-91b4-481a-ecbd-ef6816921648",
        "colab": {
          "base_uri": "https://localhost:8080/"
        }
      },
      "execution_count": 69,
      "outputs": [
        {
          "output_type": "stream",
          "name": "stdout",
          "text": [
            "{'Ana': (43, 'Bonito de Santa Fé'), 'Carlos': (39, 'Soledade'), 'Maria Eduarda': (17, 'Soledade'), 'João': (35, 'Porto Alegre'), 'Luana': (22, 'Curitiba')}\n"
          ]
        }
      ]
    },
    {
      "cell_type": "code",
      "source": [
        "def classificar_numero(numero):\n",
        "    if numero < 10:\n",
        "        return \"pequeno\"\n",
        "    elif 10 <= numero <= 50:\n",
        "        return \"médio\"\n",
        "    else:\n",
        "        return \"grande\"\n",
        "\n",
        "# Testando com um número\n",
        "numero = 35\n",
        "classificacao = classificar_numero(numero)\n",
        "\n",
        "print(f\"O número {numero} é classificado como '{classificacao}'.\")\n"
      ],
      "metadata": {
        "id": "prBMAWQ0R2_b",
        "outputId": "b3a2d804-a42b-4258-d97e-4db9e684813e",
        "colab": {
          "base_uri": "https://localhost:8080/"
        }
      },
      "execution_count": 70,
      "outputs": [
        {
          "output_type": "stream",
          "name": "stdout",
          "text": [
            "O número 35 é classificado como 'médio'.\n"
          ]
        }
      ]
    },
    {
      "cell_type": "code",
      "source": [
        "# Tabuada de 1 a 5\n",
        "for i in range(1, 6):  # de 1 até 5\n",
        "    print(f\"\\nTabuada do {i}\")\n",
        "    for j in range(1, 11):  # de 1 até 10\n",
        "        print(f\"{i} x {j} = {i * j}\")"
      ],
      "metadata": {
        "id": "l16amhzISBkF",
        "outputId": "4ff28106-b86c-4fe0-b0c9-335287f62b5a",
        "colab": {
          "base_uri": "https://localhost:8080/"
        }
      },
      "execution_count": 71,
      "outputs": [
        {
          "output_type": "stream",
          "name": "stdout",
          "text": [
            "\n",
            "Tabuada do 1\n",
            "1 x 1 = 1\n",
            "1 x 2 = 2\n",
            "1 x 3 = 3\n",
            "1 x 4 = 4\n",
            "1 x 5 = 5\n",
            "1 x 6 = 6\n",
            "1 x 7 = 7\n",
            "1 x 8 = 8\n",
            "1 x 9 = 9\n",
            "1 x 10 = 10\n",
            "\n",
            "Tabuada do 2\n",
            "2 x 1 = 2\n",
            "2 x 2 = 4\n",
            "2 x 3 = 6\n",
            "2 x 4 = 8\n",
            "2 x 5 = 10\n",
            "2 x 6 = 12\n",
            "2 x 7 = 14\n",
            "2 x 8 = 16\n",
            "2 x 9 = 18\n",
            "2 x 10 = 20\n",
            "\n",
            "Tabuada do 3\n",
            "3 x 1 = 3\n",
            "3 x 2 = 6\n",
            "3 x 3 = 9\n",
            "3 x 4 = 12\n",
            "3 x 5 = 15\n",
            "3 x 6 = 18\n",
            "3 x 7 = 21\n",
            "3 x 8 = 24\n",
            "3 x 9 = 27\n",
            "3 x 10 = 30\n",
            "\n",
            "Tabuada do 4\n",
            "4 x 1 = 4\n",
            "4 x 2 = 8\n",
            "4 x 3 = 12\n",
            "4 x 4 = 16\n",
            "4 x 5 = 20\n",
            "4 x 6 = 24\n",
            "4 x 7 = 28\n",
            "4 x 8 = 32\n",
            "4 x 9 = 36\n",
            "4 x 10 = 40\n",
            "\n",
            "Tabuada do 5\n",
            "5 x 1 = 5\n",
            "5 x 2 = 10\n",
            "5 x 3 = 15\n",
            "5 x 4 = 20\n",
            "5 x 5 = 25\n",
            "5 x 6 = 30\n",
            "5 x 7 = 35\n",
            "5 x 8 = 40\n",
            "5 x 9 = 45\n",
            "5 x 10 = 50\n"
          ]
        }
      ]
    },
    {
      "cell_type": "code",
      "source": [
        "def maior_numero(lista):\n",
        "    if not lista:  # verifica se a lista não está vazia\n",
        "        return None\n",
        "    maior = lista[0]\n",
        "    for num in lista:\n",
        "        if num > maior:\n",
        "            maior = num\n",
        "    return maior\n",
        "\n",
        "# Exemplo de uso\n",
        "numeros = [3, 7, 2, 9, 5]\n",
        "print(\"O maior número é:\", maior_numero(numeros))\n"
      ],
      "metadata": {
        "id": "K3MEZY8CSD_X",
        "outputId": "835d4cd4-6bac-4c70-fbda-022394b2aa11",
        "colab": {
          "base_uri": "https://localhost:8080/"
        }
      },
      "execution_count": 74,
      "outputs": [
        {
          "output_type": "stream",
          "name": "stdout",
          "text": [
            "O maior número é: 9\n"
          ]
        }
      ]
    }
  ],
  "metadata": {
    "colab": {
      "name": "Damos-lhe as boas-vindas ao Colab",
      "toc_visible": true,
      "provenance": [],
      "include_colab_link": true
    },
    "kernelspec": {
      "display_name": "Python 3",
      "name": "python3"
    }
  },
  "nbformat": 4,
  "nbformat_minor": 0
}