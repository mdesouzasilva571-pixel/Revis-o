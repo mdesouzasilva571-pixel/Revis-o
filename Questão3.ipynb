{
  "cells": [
    {
      "cell_type": "markdown",
      "metadata": {
        "id": "view-in-github",
        "colab_type": "text"
      },
      "source": [
        "<a href=\"https://colab.research.google.com/github/mdesouzasilva571-pixel/Revis-o/blob/main/Quest%C3%A3o3.ipynb\" target=\"_parent\"><img src=\"https://colab.research.google.com/assets/colab-badge.svg\" alt=\"Open In Colab\"/></a>"
      ]
    },
    {
      "cell_type": "code",
      "source": [
        "class Produto:\n",
        "    def __init__(self, nome, preco, quantidade):\n",
        "        self.nome = nome\n",
        "        self.preco = preco\n",
        "        self.quantidade = quantidade\n",
        "\n",
        "    def mostrar_informacoes(self):\n",
        "        return f'Nome: {self.nome}, Preço: {self.preco}, Quantidade: {self.quantidade}'\n",
        "\n",
        "    def calcular_valor_total(self):\n",
        "        return self.preco * self.quantidade\n",
        "\n",
        "# criando instâncias (produtos)\n",
        "p1 = Produto(\"Notebook\", 2500, 1)\n",
        "p2 = Produto(\"Tablet\", 1000, 2)\n",
        "p3 = Produto(\"Mouse\", 150, 5)\n",
        "\n",
        "# mostrando informações\n",
        "print(p1.mostrar_informacoes())\n",
        "print(p2.mostrar_informacoes())\n",
        "print(p3.mostrar_informacoes())\n",
        "\n",
        "# calculando valor total de cada produto\n",
        "print(f'Valor total do produto 1: {p1.calcular_valor_total()}')\n",
        "print(f'Valor total do produto 2: {p2.calcular_valor_total()}')\n",
        "print(f'Valor total do produto 3: {p3.calcular_valor_total()}')\n",
        "\n",
        "class Estoque:\n",
        "    def __init__(self):\n",
        "        self.produtos = []  # lista para guardar produtos\n",
        "\n",
        "    def adicionar_produto(self, produto):\n",
        "        self.produtos.append(produto)\n",
        "        print(f'{produto.nome} adicionado ao estoque.')\n",
        "\n",
        "    def remover_produto(self, nome_produto):\n",
        "        for produto in self.produtos:\n",
        "            if produto.nome == nome_produto:\n",
        "                self.produtos.remove(produto)\n",
        "                print(f'{nome_produto} removido do estoque.')\n",
        "                return\n",
        "        print(f'{nome_produto} não encontrado no estoque.')\n",
        "\n",
        "    def listar_produtos(self):\n",
        "        if not self.produtos:\n",
        "            print('O estoque está vazio.')\n",
        "        else:\n",
        "            print('Lista de produtos no estoque:')\n",
        "            for produto in self.produtos:\n",
        "                print(produto.mostrar_informacoes())\n",
        "\n",
        "    def calcular_valor_total_estoque(self):\n",
        "        total = 0\n",
        "        for produto in self.produtos:\n",
        "            total += produto.calcular_valor_total()\n",
        "        return total\n",
        "\n",
        "estoque = Estoque()\n",
        "estoque.adicionar_produto(p1)\n",
        "estoque.adicionar_produto(p2)\n",
        "estoque.adicionar_produto(p3)\n",
        "estoque.listar_produtos()\n",
        "estoque.remover_produto('Tablet')\n",
        "estoque.listar_produtos()\n",
        "\n",
        "print(f'Valor total do estoque: {estoque.calcular_valor_total_estoque()}')"
      ],
      "metadata": {
        "colab": {
          "base_uri": "https://localhost:8080/"
        },
        "id": "mYm7dksgbjHn",
        "outputId": "3f60903f-9079-4f26-e8fb-ca59fcadce30"
      },
      "execution_count": 4,
      "outputs": [
        {
          "output_type": "stream",
          "name": "stdout",
          "text": [
            "Nome: Notebook, Preço: 2500, Quantidade: 1\n",
            "Nome: Tablet, Preço: 1000, Quantidade: 2\n",
            "Nome: Mouse, Preço: 150, Quantidade: 5\n",
            "Valor total do produto 1: 2500\n",
            "Valor total do produto 2: 2000\n",
            "Valor total do produto 3: 750\n",
            "Notebook adicionado ao estoque.\n",
            "Tablet adicionado ao estoque.\n",
            "Mouse adicionado ao estoque.\n",
            "Lista de produtos no estoque:\n",
            "Nome: Notebook, Preço: 2500, Quantidade: 1\n",
            "Nome: Tablet, Preço: 1000, Quantidade: 2\n",
            "Nome: Mouse, Preço: 150, Quantidade: 5\n",
            "Tablet removido do estoque.\n",
            "Lista de produtos no estoque:\n",
            "Nome: Notebook, Preço: 2500, Quantidade: 1\n",
            "Nome: Mouse, Preço: 150, Quantidade: 5\n",
            "Valor total do estoque: 3250\n"
          ]
        }
      ]
    }
  ],
  "metadata": {
    "colab": {
      "name": "Conheça o Colab",
      "toc_visible": true,
      "provenance": [],
      "include_colab_link": true
    },
    "kernelspec": {
      "display_name": "Python 3",
      "name": "python3"
    }
  },
  "nbformat": 4,
  "nbformat_minor": 0
}